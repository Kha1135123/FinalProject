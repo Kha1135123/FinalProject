{
 "cells": [
  {
   "cell_type": "code",
   "execution_count": 1,
   "id": "dd99742b",
   "metadata": {
    "collapsed": true
   },
   "outputs": [
    {
     "name": "stdout",
     "output_type": "stream",
    
   "source": [
    "!pip install streamlit"
   ]
  },
  {
   "cell_type": "markdown",
   "id": "36f63459",
   "metadata": {},
   "source": [
    "### Streamlit interface"
   ]
  },
  {
   "cell_type": "code",
   "execution_count": 2,
   "id": "415ca39c",
   "metadata": {
    "collapsed": true
   },
   "outputs": [
    {
     "name": "stdout",
     "output_type": "stream",
    
   "source": [
    "! pip install tensorflow"
   ]
  },
  {
   "cell_type": "code",
   "execution_count": 3,
   "id": "7950d879",
   "metadata": {},
   "outputs": [],
   "source": [
    "import tensorflow as tf"
   ]
  },
  {
   "cell_type": "code",
   "execution_count": 4,
   "id": "ed5b6960",
   "metadata": {
    "scrolled": true
   },
   "outputs": [
    {
     "name": "stderr",
     "output_type": "stream",
     "text": [
      "No model was supplied, defaulted to roberta-large-mnli (https://huggingface.co/roberta-large-mnli)\n",
      "All model checkpoint layers were used when initializing TFRobertaForSequenceClassification.\n",
      "\n",
      "All the layers of TFRobertaForSequenceClassification were initialized from the model checkpoint at roberta-large-mnli.\n",
      "If your task is similar to the task the model of the checkpoint was trained on, you can already use TFRobertaForSequenceClassification for predictions without further training.\n"
     ]
    }
   ],
   "source": [
    "from transformers import pipeline\n",
    "classifier = pipeline(\"zero-shot-classification\", device=0)"
   ]
  },
  {
   "cell_type": "code",
   "execution_count": 7,
   "id": "256a1034",
   "metadata": {},
   "outputs": [],
   "source": [
    "import streamlit as st\n",
    "import numpy as np\n",
    "\n",
    "st.title('Feedback')\n",
    "\n",
    "\n",
    "text = 'Russia invades Ukraine'\n",
    "candidate_labels = [\"positive\", \"negative\", \"neutral\"]\n",
    "user_input = st.text_input(\"Text\", text)\n",
    "doc = classifier(user_input, candidate_labels)\n",
    "\n",
    "x = np.array(doc['scores'])\n",
    "b = doc['labels']\n",
    "\n",
    "m = np.char.find(b, 'positive')\n",
    "m = np.where(m == 0 )\n",
    "n = np.char.find(b, 'negative')\n",
    "n = np.where(n == 0 )\n",
    "k = np.char.find(b, 'neutral')\n",
    "k = np.where(k == 0 )\n",
    "\n",
    "st.write('Positive:', round(x[m][0], 2))\n",
    "st.write('Negative:', round(x[n][0], 2)) \n",
    "st.write('Neutral:', round(x[k][0], 2)) "
   ]
  },
  {
   "cell_type": "code",
   "execution_count": null,
   "id": "71eec81c",
   "metadata": {},
   "outputs": [],
   "source": []
  }
 ],
 "metadata": {
  "kernelspec": {
   "display_name": "Python 3 (ipykernel)",
   "language": "python",
   "name": "python3"
  },
  "language_info": {
   "codemirror_mode": {
    "name": "ipython",
    "version": 3
   },
   "file_extension": ".py",
   "mimetype": "text/x-python",
   "name": "python",
   "nbconvert_exporter": "python",
   "pygments_lexer": "ipython3",
   "version": "3.9.10"
  }
 },
 "nbformat": 4,
 "nbformat_minor": 5
}
